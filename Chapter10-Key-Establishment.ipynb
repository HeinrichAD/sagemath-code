{
 "cells": [
  {
   "cell_type": "markdown",
   "metadata": {},
   "source": [
    "A Course in Cryptography by Heiko Knospe, American Mathematical Society, Pure and Applied Undergraduate Texts 40"
   ]
  },
  {
   "cell_type": "markdown",
   "metadata": {},
   "source": [
    "## Code examples of Chapter 10 - Key Establishment"
   ]
  },
  {
   "cell_type": "markdown",
   "metadata": {},
   "source": [
    "This SageMath notebook by Heiko Knospe is licensed under a <a rel=\"license\" href=\"http://creativecommons.org/licenses/by/4.0/\">Creative Commons Attribution 4.0 International License</a>."
   ]
  },
  {
   "cell_type": "markdown",
   "metadata": {},
   "source": [
    "Download SageMath from http://www.sagemath.org/download."
   ]
  },
  {
   "cell_type": "code",
   "execution_count": 1,
   "metadata": {},
   "outputs": [],
   "source": [
    "# Diffie-Hellman group ffdhe2048 (RFC 7919)"
   ]
  },
  {
   "cell_type": "code",
   "execution_count": 2,
   "metadata": {},
   "outputs": [],
   "source": [
    "pstring=\"FFFFFFFF FFFFFFFF ADF85458 A2BB4A9A AFDC5620 273D3CF1\\\n",
    "    D8B9C583 CE2D3695 A9E13641 146433FB CC939DCE 249B3EF9\\\n",
    "    7D2FE363 630C75D8 F681B202 AEC4617A D3DF1ED5 D5FD6561\\\n",
    "    2433F51F 5F066ED0 85636555 3DED1AF3 B557135E 7F57C935\\\n",
    "    984F0C70 E0E68B77 E2A689DA F3EFE872 1DF158A1 36ADE735\\\n",
    "    30ACCA4F 483A797A BC0AB182 B324FB61 D108A94B B2C8E3FB\\\n",
    "    B96ADAB7 60D7F468 1D4F42A3 DE394DF4 AE56EDE7 6372BB19\\\n",
    "    0B07A7C8 EE0A6D70 9E02FCE1 CDF7E2EC C03404CD 28342F61\\\n",
    "    9172FE9C E98583FF 8E4F1232 EEF28183 C3FE3B1B 4C6FAD73\\\n",
    "    3BB5FCBC 2EC22005 C58EF183 7D1683B2 C6F34A26 C1B2EFFA\\\n",
    "    886B4238 61285C97 FFFFFFFF FFFFFFFF\""
   ]
  },
  {
   "cell_type": "code",
   "execution_count": 3,
   "metadata": {},
   "outputs": [],
   "source": [
    "p=ZZ(pstring,16)"
   ]
  },
  {
   "cell_type": "code",
   "execution_count": 4,
   "metadata": {},
   "outputs": [
    {
     "data": {
      "text/plain": [
       "True"
      ]
     },
     "execution_count": 4,
     "metadata": {},
     "output_type": "execute_result"
    }
   ],
   "source": [
    "p.is_pseudoprime()"
   ]
  },
  {
   "cell_type": "code",
   "execution_count": 5,
   "metadata": {},
   "outputs": [],
   "source": [
    "q=(p-1)//2"
   ]
  },
  {
   "cell_type": "code",
   "execution_count": 6,
   "metadata": {},
   "outputs": [
    {
     "data": {
      "text/plain": [
       "True"
      ]
     },
     "execution_count": 6,
     "metadata": {},
     "output_type": "execute_result"
    }
   ],
   "source": [
    "q.is_pseudoprime()"
   ]
  },
  {
   "cell_type": "code",
   "execution_count": 7,
   "metadata": {},
   "outputs": [
    {
     "data": {
      "text/plain": [
       "1"
      ]
     },
     "execution_count": 7,
     "metadata": {},
     "output_type": "execute_result"
    }
   ],
   "source": [
    "g=2\n",
    "power_mod(g,q,p) # Hence ord(g)=q"
   ]
  },
  {
   "cell_type": "code",
   "execution_count": 8,
   "metadata": {},
   "outputs": [],
   "source": [
    "# discrete logarithm"
   ]
  },
  {
   "cell_type": "code",
   "execution_count": 9,
   "metadata": {},
   "outputs": [],
   "source": [
    "p=73\n",
    "g=mod(11,73)\n",
    "A=mod(62,73)"
   ]
  },
  {
   "cell_type": "code",
   "execution_count": 10,
   "metadata": {},
   "outputs": [
    {
     "data": {
      "text/plain": [
       "37"
      ]
     },
     "execution_count": 10,
     "metadata": {},
     "output_type": "execute_result"
    }
   ],
   "source": [
    "discrete_log(A,g)"
   ]
  },
  {
   "cell_type": "code",
   "execution_count": 11,
   "metadata": {},
   "outputs": [
    {
     "data": {
      "text/plain": [
       "2^3 * 3^2"
      ]
     },
     "execution_count": 11,
     "metadata": {},
     "output_type": "execute_result"
    }
   ],
   "source": [
    "factor(p-1)"
   ]
  },
  {
   "cell_type": "code",
   "execution_count": 12,
   "metadata": {},
   "outputs": [],
   "source": [
    "# use Pohlig-Hellman and compute the discrete log in factor groups of order 8 and 9"
   ]
  },
  {
   "cell_type": "code",
   "execution_count": 13,
   "metadata": {},
   "outputs": [
    {
     "data": {
      "text/plain": [
       "5"
      ]
     },
     "execution_count": 13,
     "metadata": {},
     "output_type": "execute_result"
    }
   ],
   "source": [
    "discrete_log(A^9,g^9)"
   ]
  },
  {
   "cell_type": "code",
   "execution_count": 14,
   "metadata": {},
   "outputs": [
    {
     "data": {
      "text/plain": [
       "1"
      ]
     },
     "execution_count": 14,
     "metadata": {},
     "output_type": "execute_result"
    }
   ],
   "source": [
    "discrete_log(A^8,g^8)"
   ]
  },
  {
   "cell_type": "code",
   "execution_count": 15,
   "metadata": {},
   "outputs": [
    {
     "data": {
      "text/plain": [
       "37"
      ]
     },
     "execution_count": 15,
     "metadata": {},
     "output_type": "execute_result"
    }
   ],
   "source": [
    "CRT([5,1],[8,9]) # use CRT to find the discrete log in the full group"
   ]
  },
  {
   "cell_type": "markdown",
   "metadata": {},
   "source": [
    "Exercise 4."
   ]
  },
  {
   "cell_type": "code",
   "execution_count": 16,
   "metadata": {},
   "outputs": [],
   "source": [
    "# Diffie-Hellman key exchange\n",
    "p=43\n",
    "g=3"
   ]
  },
  {
   "cell_type": "code",
   "execution_count": 17,
   "metadata": {},
   "outputs": [
    {
     "data": {
      "text/plain": [
       "2 * 3 * 7"
      ]
     },
     "execution_count": 17,
     "metadata": {},
     "output_type": "execute_result"
    }
   ],
   "source": [
    "factor(p-1)"
   ]
  },
  {
   "cell_type": "code",
   "execution_count": 18,
   "metadata": {},
   "outputs": [],
   "source": [
    "# compute ord(g)"
   ]
  },
  {
   "cell_type": "code",
   "execution_count": 19,
   "metadata": {},
   "outputs": [
    {
     "data": {
      "text/plain": [
       "42"
      ]
     },
     "execution_count": 19,
     "metadata": {},
     "output_type": "execute_result"
    }
   ],
   "source": [
    "power_mod(g,(p-1)//2,p)"
   ]
  },
  {
   "cell_type": "code",
   "execution_count": 20,
   "metadata": {},
   "outputs": [
    {
     "data": {
      "text/plain": [
       "36"
      ]
     },
     "execution_count": 20,
     "metadata": {},
     "output_type": "execute_result"
    }
   ],
   "source": [
    "power_mod(g,(p-1)//3,p)"
   ]
  },
  {
   "cell_type": "code",
   "execution_count": 21,
   "metadata": {},
   "outputs": [
    {
     "data": {
      "text/plain": [
       "41"
      ]
     },
     "execution_count": 21,
     "metadata": {},
     "output_type": "execute_result"
    }
   ],
   "source": [
    "power_mod(g,(p-1)//7,p) "
   ]
  },
  {
   "cell_type": "code",
   "execution_count": 22,
   "metadata": {},
   "outputs": [],
   "source": [
    "# Hence ord(g)=42 (maximal order)"
   ]
  },
  {
   "cell_type": "code",
   "execution_count": 23,
   "metadata": {},
   "outputs": [
    {
     "name": "stdout",
     "output_type": "stream",
     "text": [
      "15\n"
     ]
    }
   ],
   "source": [
    "# Bob chooses his private key \n",
    "b=26\n",
    "B=power_mod(g,b,p);print(B)"
   ]
  },
  {
   "cell_type": "code",
   "execution_count": 24,
   "metadata": {},
   "outputs": [
    {
     "name": "stdout",
     "output_type": "stream",
     "text": [
      "23\n"
     ]
    }
   ],
   "source": [
    "# Alices public key\n",
    "A=14\n",
    "k=power_mod(A,b,p); print(k) # shared secret key k=A^b mod p"
   ]
  },
  {
   "cell_type": "markdown",
   "metadata": {},
   "source": [
    "Exercise 5."
   ]
  },
  {
   "cell_type": "code",
   "execution_count": 25,
   "metadata": {},
   "outputs": [],
   "source": [
    "p=107\n",
    "g=3"
   ]
  },
  {
   "cell_type": "code",
   "execution_count": 26,
   "metadata": {},
   "outputs": [
    {
     "data": {
      "text/plain": [
       "2 * 53"
      ]
     },
     "execution_count": 26,
     "metadata": {},
     "output_type": "execute_result"
    }
   ],
   "source": [
    "factor(p-1)"
   ]
  },
  {
   "cell_type": "code",
   "execution_count": 27,
   "metadata": {},
   "outputs": [
    {
     "data": {
      "text/plain": [
       "1"
      ]
     },
     "execution_count": 27,
     "metadata": {},
     "output_type": "execute_result"
    }
   ],
   "source": [
    "power_mod(g,53,p) # Hence ord(g)=53"
   ]
  },
  {
   "cell_type": "code",
   "execution_count": 28,
   "metadata": {},
   "outputs": [
    {
     "data": {
      "text/plain": [
       "7"
      ]
     },
     "execution_count": 28,
     "metadata": {},
     "output_type": "execute_result"
    }
   ],
   "source": [
    "# Babystep-Giantstep\n",
    "A=12 # find log_g(A)\n",
    "floor(sqrt(53))"
   ]
  },
  {
   "cell_type": "code",
   "execution_count": 29,
   "metadata": {},
   "outputs": [
    {
     "name": "stdout",
     "output_type": "stream",
     "text": [
      "0 12\n",
      "1 4\n",
      "2 37\n",
      "3 48\n",
      "4 16\n",
      "5 41\n",
      "6 85\n",
      "7 64\n"
     ]
    }
   ],
   "source": [
    "for r in range(8):\n",
    "    print(r,mod(A/g^r,p)) # Babysteps"
   ]
  },
  {
   "cell_type": "code",
   "execution_count": 30,
   "metadata": {},
   "outputs": [
    {
     "name": "stdout",
     "output_type": "stream",
     "text": [
      "47\n"
     ]
    }
   ],
   "source": [
    "T=power_mod(g,7,p); print(T) # first gianstep"
   ]
  },
  {
   "cell_type": "code",
   "execution_count": 31,
   "metadata": {},
   "outputs": [
    {
     "name": "stdout",
     "output_type": "stream",
     "text": [
      "0 1\n",
      "1 47\n",
      "2 69\n",
      "3 33\n",
      "4 53\n",
      "5 30\n",
      "6 19\n",
      "7 37\n"
     ]
    }
   ],
   "source": [
    "for s in range(8):\n",
    "    print(s,power_mod(47,s,p)) # Giantsteps"
   ]
  },
  {
   "cell_type": "code",
   "execution_count": 32,
   "metadata": {},
   "outputs": [
    {
     "name": "stdout",
     "output_type": "stream",
     "text": [
      "51\n"
     ]
    }
   ],
   "source": [
    "# match for 37\n",
    "# r=2, s=7\n",
    "# a=ms+r\n",
    "a=7*7+2; print(a) # log_g(A)=a=51"
   ]
  },
  {
   "cell_type": "code",
   "execution_count": 33,
   "metadata": {},
   "outputs": [
    {
     "data": {
      "text/plain": [
       "True"
      ]
     },
     "execution_count": 33,
     "metadata": {},
     "output_type": "execute_result"
    }
   ],
   "source": [
    "power_mod(g,a,p)==A # verify a"
   ]
  },
  {
   "cell_type": "markdown",
   "metadata": {},
   "source": [
    "Exercise 6."
   ]
  },
  {
   "cell_type": "code",
   "execution_count": 34,
   "metadata": {},
   "outputs": [],
   "source": [
    "pstring = \"87A8E61D B4B6663C FFBBD19C 65195999 8CEEF608 660DD0F2 \\\n",
    "          5D2CEED4 435E3B00 E00DF8F1 D61957D4 FAF7DF45 61B2AA30 \\\n",
    "          16C3D911 34096FAA 3BF4296D 830E9A7C 209E0C64 97517ABD \\\n",
    "          5A8A9D30 6BCF67ED 91F9E672 5B4758C0 22E0B1EF 4275BF7B \\\n",
    "          6C5BFC11 D45F9088 B941F54E B1E59BB8 BC39A0BF 12307F5C \\\n",
    "          4FDB70C5 81B23F76 B63ACAE1 CAA6B790 2D525267 35488A0E \\\n",
    "          F13C6D9A 51BFA4AB 3AD83477 96524D8E F6A167B5 A41825D9 \\\n",
    "          67E144E5 14056425 1CCACB83 E6B486F6 B3CA3F79 71506026 \\\n",
    "          C0B857F6 89962856 DED4010A BD0BE621 C3A3960A 54E710C3 \\\n",
    "          75F26375 D7014103 A4B54330 C198AF12 6116D227 6E11715F \\\n",
    "          693877FA D7EF09CA DB094AE9 1E1A1597\""
   ]
  },
  {
   "cell_type": "code",
   "execution_count": 35,
   "metadata": {},
   "outputs": [],
   "source": [
    "p=ZZ(pstring,16)"
   ]
  },
  {
   "cell_type": "code",
   "execution_count": 36,
   "metadata": {},
   "outputs": [
    {
     "data": {
      "text/plain": [
       "True"
      ]
     },
     "execution_count": 36,
     "metadata": {},
     "output_type": "execute_result"
    }
   ],
   "source": [
    "p.is_pseudoprime()"
   ]
  },
  {
   "cell_type": "code",
   "execution_count": 37,
   "metadata": {},
   "outputs": [],
   "source": [
    "gstring= \"3FB32C9B 73134D0B 2E775066 60EDBD48 4CA7B18F 21EF2054 \\\n",
    "          07F4793A 1A0BA125 10DBC150 77BE463F FF4FED4A AC0BB555 \\\n",
    "          BE3A6C1B 0C6B47B1 BC3773BF 7E8C6F62 901228F8 C28CBB18 \\\n",
    "          A55AE313 41000A65 0196F931 C77A57F2 DDF463E5 E9EC144B \\\n",
    "          777DE62A AAB8A862 8AC376D2 82D6ED38 64E67982 428EBC83 \\\n",
    "          1D14348F 6F2F9193 B5045AF2 767164E1 DFC967C1 FB3F2E55 \\\n",
    "          A4BD1BFF E83B9C80 D052B985 D182EA0A DB2A3B73 13D3FE14 \\\n",
    "          C8484B1E 052588B9 B7D2BBD2 DF016199 ECD06E15 57CD0915 \\\n",
    "          B3353BBB 64E0EC37 7FD02837 0DF92B52 C7891428 CDC67EB6 \\\n",
    "          184B523D 1DB246C3 2F630784 90F00EF8 D647D148 D4795451 \\\n",
    "          5E2327CF EF98C582 664B4C0F 6CC41659\""
   ]
  },
  {
   "cell_type": "code",
   "execution_count": 38,
   "metadata": {},
   "outputs": [],
   "source": [
    "g=ZZ(gstring,16)"
   ]
  },
  {
   "cell_type": "code",
   "execution_count": 39,
   "metadata": {},
   "outputs": [],
   "source": [
    "qstring=\"8CF83642 A709A097 B4479976 40129DA2 99B1A47D 1EB3750B A308B0FE 64F5FBD3\""
   ]
  },
  {
   "cell_type": "code",
   "execution_count": 40,
   "metadata": {},
   "outputs": [],
   "source": [
    "q=ZZ(qstring,16)"
   ]
  },
  {
   "cell_type": "code",
   "execution_count": 41,
   "metadata": {},
   "outputs": [
    {
     "data": {
      "text/plain": [
       "True"
      ]
     },
     "execution_count": 41,
     "metadata": {},
     "output_type": "execute_result"
    }
   ],
   "source": [
    "q.is_pseudoprime()"
   ]
  },
  {
   "cell_type": "code",
   "execution_count": 42,
   "metadata": {},
   "outputs": [
    {
     "data": {
      "text/plain": [
       "0"
      ]
     },
     "execution_count": 42,
     "metadata": {},
     "output_type": "execute_result"
    }
   ],
   "source": [
    "mod(p-1,q) # q divides (p-1)"
   ]
  },
  {
   "cell_type": "code",
   "execution_count": 43,
   "metadata": {},
   "outputs": [
    {
     "data": {
      "text/plain": [
       "1"
      ]
     },
     "execution_count": 43,
     "metadata": {},
     "output_type": "execute_result"
    }
   ],
   "source": [
    "power_mod(g,q,p) # Hence ord(g)=q"
   ]
  },
  {
   "cell_type": "code",
   "execution_count": 44,
   "metadata": {},
   "outputs": [
    {
     "data": {
      "text/plain": [
       "22777613834804981213695156508263265502794998864802549138710332207387876642029"
      ]
     },
     "execution_count": 44,
     "metadata": {},
     "output_type": "execute_result"
    }
   ],
   "source": [
    "# Example of a Diffie-Hellman key exchange using p,q,g\n",
    "a=ZZ.random_element(q); a"
   ]
  },
  {
   "cell_type": "code",
   "execution_count": 45,
   "metadata": {},
   "outputs": [
    {
     "data": {
      "text/plain": [
       "55499316184441356041424962587582944652695801411322083498435910226097949522969"
      ]
     },
     "execution_count": 45,
     "metadata": {},
     "output_type": "execute_result"
    }
   ],
   "source": [
    "b=ZZ.random_element(q); b"
   ]
  },
  {
   "cell_type": "code",
   "execution_count": 46,
   "metadata": {},
   "outputs": [
    {
     "data": {
      "text/plain": [
       "14727600649564322522453624065885254148410852794032109280890486630778124240901854188691146640836631572950649761010221113912734526510404872200545366180159690317360050651069465050996340952764304350271820785280835778281284537200501491925576515973668824811112974256240792474941949178189937724029600326589839722549699688157896712656407265862629545712336434136488464845540792359896176468683194870021727243340950053489430576044766679224457476479071418650192296846708255448248798705854131572355516545987956347462019500899958722664659474880982487710119335037856322532362364519863247634308776147313697153533835941064946132250072"
      ]
     },
     "execution_count": 46,
     "metadata": {},
     "output_type": "execute_result"
    }
   ],
   "source": [
    "A=power_mod(g,a,p); A"
   ]
  },
  {
   "cell_type": "code",
   "execution_count": 47,
   "metadata": {},
   "outputs": [
    {
     "data": {
      "text/plain": [
       "10888406787344339082508587032160001077906397207079181971524733704642648978138834499544103397973597086240454861413824285476337708986035349920103344574131482125313461886604828975728653562520638479391353131907238082357792864907845815123044967146215715996676807825915197690739080678805040033890637664435908921864386109334518358719189350594896399868168731988436607318859561379636626076991810233383677790948731204082254681458837500330295306904308384698522801576945503325525618679483011186363340515511760330595784799896345425413519537601995706397176270635142100715556266176609287215720543952028043160682266890871626383492035"
      ]
     },
     "execution_count": 47,
     "metadata": {},
     "output_type": "execute_result"
    }
   ],
   "source": [
    "B=power_mod(g,b,p); B"
   ]
  },
  {
   "cell_type": "code",
   "execution_count": 48,
   "metadata": {},
   "outputs": [
    {
     "data": {
      "text/plain": [
       "1572622054325342292616361072008517963171699201935086414983078261215611056276049666111191994373438506688870099357645222933471206738075596380574483954342744919117264912456223447739795186541227006605393278334872217651133106255123087751897461670286367975783022845805011657062491334354250133103248192744337383422081180958699521671086001773973125618979633445864918222803489977557937339618529728324620234422331880250999863831246802547876818636180975658049702683457534492527296364575734247504209132051619826824318203389758950065082463787033849955580901839453467969254734311845909525845078871282663252383659347509106968208007"
      ]
     },
     "execution_count": 48,
     "metadata": {},
     "output_type": "execute_result"
    }
   ],
   "source": [
    "k=power_mod(B,a,p); k # Alice computes the shared secret key"
   ]
  },
  {
   "cell_type": "code",
   "execution_count": 49,
   "metadata": {},
   "outputs": [
    {
     "data": {
      "text/plain": [
       "True"
      ]
     },
     "execution_count": 49,
     "metadata": {},
     "output_type": "execute_result"
    }
   ],
   "source": [
    "power_mod(A,b,p)==k # Bob computes the same shared secret key"
   ]
  },
  {
   "cell_type": "markdown",
   "metadata": {},
   "source": [
    "Exercise 7."
   ]
  },
  {
   "cell_type": "code",
   "execution_count": 50,
   "metadata": {},
   "outputs": [],
   "source": [
    "# Pollard's rho method\n",
    "p=59\n",
    "g=4\n",
    "q=29\n",
    "A=9"
   ]
  },
  {
   "cell_type": "code",
   "execution_count": 51,
   "metadata": {},
   "outputs": [
    {
     "data": {
      "text/plain": [
       "True"
      ]
     },
     "execution_count": 51,
     "metadata": {},
     "output_type": "execute_result"
    }
   ],
   "source": [
    "x1=2; y1=1\n",
    "x2=5; y2=5\n",
    "mod(g^x1 * A^y1, p) == mod(g^x2 * A^y2, p) # collision"
   ]
  },
  {
   "cell_type": "code",
   "execution_count": 52,
   "metadata": {},
   "outputs": [
    {
     "name": "stdout",
     "output_type": "stream",
     "text": [
      "21\n"
     ]
    }
   ],
   "source": [
    "a=mod((x2-x1)/(y1-y2),q); print(a)"
   ]
  },
  {
   "cell_type": "code",
   "execution_count": 53,
   "metadata": {},
   "outputs": [
    {
     "data": {
      "text/plain": [
       "True"
      ]
     },
     "execution_count": 53,
     "metadata": {},
     "output_type": "execute_result"
    }
   ],
   "source": [
    "power_mod(g,ZZ(a),p)==mod(A,p) # verify discrete log"
   ]
  },
  {
   "cell_type": "markdown",
   "metadata": {},
   "source": [
    "Exercise 8."
   ]
  },
  {
   "cell_type": "code",
   "execution_count": 54,
   "metadata": {},
   "outputs": [],
   "source": [
    "p=109"
   ]
  },
  {
   "cell_type": "code",
   "execution_count": 55,
   "metadata": {},
   "outputs": [
    {
     "data": {
      "text/plain": [
       "2^2 * 3^3"
      ]
     },
     "execution_count": 55,
     "metadata": {},
     "output_type": "execute_result"
    }
   ],
   "source": [
    "factor(p-1)"
   ]
  },
  {
   "cell_type": "code",
   "execution_count": 56,
   "metadata": {},
   "outputs": [],
   "source": [
    "g=11"
   ]
  },
  {
   "cell_type": "code",
   "execution_count": 57,
   "metadata": {},
   "outputs": [
    {
     "data": {
      "text/plain": [
       "108"
      ]
     },
     "execution_count": 57,
     "metadata": {},
     "output_type": "execute_result"
    }
   ],
   "source": [
    "power_mod(g,(p-1)//2,p)"
   ]
  },
  {
   "cell_type": "code",
   "execution_count": 58,
   "metadata": {},
   "outputs": [
    {
     "data": {
      "text/plain": [
       "45"
      ]
     },
     "execution_count": 58,
     "metadata": {},
     "output_type": "execute_result"
    }
   ],
   "source": [
    "power_mod(g,(p-1)//3,p)"
   ]
  },
  {
   "cell_type": "code",
   "execution_count": 59,
   "metadata": {},
   "outputs": [],
   "source": [
    "# Hence ord(g)=p-1 "
   ]
  },
  {
   "cell_type": "code",
   "execution_count": 60,
   "metadata": {},
   "outputs": [],
   "source": [
    "A=mod(54,p) # use Pohlig-Hellman to compute log_g(A)"
   ]
  },
  {
   "cell_type": "code",
   "execution_count": 61,
   "metadata": {},
   "outputs": [],
   "source": [
    "g=mod(g,p) # g mod p"
   ]
  },
  {
   "cell_type": "code",
   "execution_count": 62,
   "metadata": {},
   "outputs": [],
   "source": [
    "# compute discrete log in factor groups of order 4 and 27"
   ]
  },
  {
   "cell_type": "code",
   "execution_count": 63,
   "metadata": {},
   "outputs": [
    {
     "data": {
      "text/plain": [
       "3"
      ]
     },
     "execution_count": 63,
     "metadata": {},
     "output_type": "execute_result"
    }
   ],
   "source": [
    "discrete_log(A^27,g^27)"
   ]
  },
  {
   "cell_type": "code",
   "execution_count": 64,
   "metadata": {},
   "outputs": [
    {
     "data": {
      "text/plain": [
       "12"
      ]
     },
     "execution_count": 64,
     "metadata": {},
     "output_type": "execute_result"
    }
   ],
   "source": [
    "discrete_log(A^4,g^4)"
   ]
  },
  {
   "cell_type": "code",
   "execution_count": 65,
   "metadata": {},
   "outputs": [
    {
     "data": {
      "text/plain": [
       "39"
      ]
     },
     "execution_count": 65,
     "metadata": {},
     "output_type": "execute_result"
    }
   ],
   "source": [
    "CRT([3,12],[4,27]) # use CRT to find the discrete log in the full group"
   ]
  },
  {
   "cell_type": "code",
   "execution_count": 66,
   "metadata": {},
   "outputs": [
    {
     "data": {
      "text/plain": [
       "True"
      ]
     },
     "execution_count": 66,
     "metadata": {},
     "output_type": "execute_result"
    }
   ],
   "source": [
    "power_mod(g,39,p)==A # verify discrete log"
   ]
  },
  {
   "cell_type": "markdown",
   "metadata": {},
   "source": [
    "Exercise 12."
   ]
  },
  {
   "cell_type": "code",
   "execution_count": 67,
   "metadata": {},
   "outputs": [],
   "source": [
    "p=59\n",
    "g=4\n",
    "a=20"
   ]
  },
  {
   "cell_type": "code",
   "execution_count": 68,
   "metadata": {},
   "outputs": [],
   "source": [
    "c1=17; c2=16 # ElGamal ciphertext in part (b)"
   ]
  },
  {
   "cell_type": "code",
   "execution_count": 69,
   "metadata": {},
   "outputs": [
    {
     "name": "stdout",
     "output_type": "stream",
     "text": [
      "46\n"
     ]
    }
   ],
   "source": [
    "m=mod(power_mod(c1,-a,p)*c2,p); print(m) # decryption of (c1,c2)"
   ]
  },
  {
   "cell_type": "code",
   "execution_count": null,
   "metadata": {},
   "outputs": [],
   "source": []
  }
 ],
 "metadata": {
  "kernelspec": {
   "display_name": "SageMath 9.0",
   "language": "sage",
   "name": "sagemath"
  },
  "language_info": {
   "codemirror_mode": {
    "name": "ipython",
    "version": 3
   },
   "file_extension": ".py",
   "mimetype": "text/x-python",
   "name": "python",
   "nbconvert_exporter": "python",
   "pygments_lexer": "ipython3",
   "version": "3.7.3"
  }
 },
 "nbformat": 4,
 "nbformat_minor": 2
}
