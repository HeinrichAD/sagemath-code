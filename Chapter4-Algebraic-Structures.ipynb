{
 "cells": [
  {
   "cell_type": "markdown",
   "metadata": {},
   "source": [
    "*A Course in Cryptography* by Heiko Knospe, American Mathematical Society, Pure and Applied Undergraduate Texts 40"
   ]
  },
  {
   "cell_type": "markdown",
   "metadata": {},
   "source": [
    "## Code examples of Chapter 4 - Algebraic Structures"
   ]
  },
  {
   "cell_type": "markdown",
   "metadata": {},
   "source": [
    "Check whether $g \\in \\mathbb{Z}^*_p$ is a generator, i.e., a primitive root modulo $p$."
   ]
  },
  {
   "cell_type": "code",
   "execution_count": 1,
   "metadata": {},
   "outputs": [],
   "source": [
    "def checkgen(g,p):\n",
    "    if is_prime(p) == False: \n",
    "        return \"not a prime\"\n",
    "    if gcd(g,p) != 1:\n",
    "        return \"not invertible mod p\"\n",
    "    result = True;\n",
    "    n = p-1 # order of GF(p)\n",
    "    for q in prime_factors(n):\n",
    "        b = power_mod(g,n//q,p)\n",
    "        if b==1:\n",
    "            result = False # g is not a generator\n",
    "            break\n",
    "    return result"
   ]
  },
  {
   "cell_type": "code",
   "execution_count": 2,
   "metadata": {},
   "outputs": [
    {
     "data": {
      "text/plain": [
       "False"
      ]
     },
     "execution_count": 2,
     "metadata": {},
     "output_type": "execute_result"
    }
   ],
   "source": [
    "p=2535301200456458802993406412663; g=3; \n",
    "checkgen(g,p)"
   ]
  },
  {
   "cell_type": "code",
   "execution_count": 3,
   "metadata": {},
   "outputs": [
    {
     "data": {
      "text/plain": [
       "True"
      ]
     },
     "execution_count": 3,
     "metadata": {},
     "output_type": "execute_result"
    }
   ],
   "source": [
    "g=5\n",
    "checkgen(g,p)"
   ]
  },
  {
   "cell_type": "code",
   "execution_count": 4,
   "metadata": {},
   "outputs": [
    {
     "data": {
      "text/plain": [
       "2 * 1267650600228229401496703206331"
      ]
     },
     "execution_count": 4,
     "metadata": {},
     "output_type": "execute_result"
    }
   ],
   "source": [
    "factor(p-1) # element orders are divisors of p-1"
   ]
  },
  {
   "cell_type": "code",
   "execution_count": 5,
   "metadata": {},
   "outputs": [
    {
     "data": {
      "text/plain": [
       "1"
      ]
     },
     "execution_count": 5,
     "metadata": {},
     "output_type": "execute_result"
    }
   ],
   "source": [
    "q=1267650600228229401496703206331 # p-1=2q\n",
    "power_mod(3,q,p) # ord(3)=q"
   ]
  },
  {
   "cell_type": "code",
   "execution_count": 6,
   "metadata": {},
   "outputs": [
    {
     "data": {
      "text/plain": [
       "2535301200456458802993406412662"
      ]
     },
     "execution_count": 6,
     "metadata": {},
     "output_type": "execute_result"
    }
   ],
   "source": [
    "power_mod(5,q,p) # ord(5)=p-1, i.e., 5 is a primitive root."
   ]
  },
  {
   "cell_type": "code",
   "execution_count": 7,
   "metadata": {},
   "outputs": [
    {
     "data": {
      "text/plain": [
       "True"
      ]
     },
     "execution_count": 7,
     "metadata": {},
     "output_type": "execute_result"
    }
   ],
   "source": [
    "mod(5,p).multiplicative_order() == p-1 # use SageMath to check that ord(5)=p-1."
   ]
  },
  {
   "cell_type": "markdown",
   "metadata": {},
   "source": [
    "Computations in the polynomial ring $GF(2)[x]$."
   ]
  },
  {
   "cell_type": "code",
   "execution_count": 8,
   "metadata": {},
   "outputs": [
    {
     "name": "stdout",
     "output_type": "stream",
     "text": [
      "x^2\n",
      "x^3 + x + 1\n",
      "x^6 + x^5 + x^3 + x^2 + x + 1\n"
     ]
    }
   ],
   "source": [
    "R.<x> = PolynomialRing(GF(2),x)\n",
    "f = x^6+x^5+x^3+x^2+x+1\n",
    "g = x^4+x^3+1\n",
    "q= f // g\n",
    "r= f % g\n",
    "print q # quotient\n",
    "print r # remainder\n",
    "print q*g+r # f=q*g+r"
   ]
  },
  {
   "cell_type": "code",
   "execution_count": 9,
   "metadata": {},
   "outputs": [
    {
     "data": {
      "text/plain": [
       "x + 1"
      ]
     },
     "execution_count": 9,
     "metadata": {},
     "output_type": "execute_result"
    }
   ],
   "source": [
    "gcd(x^3+1,x^2+1) # gcd in R=GF(2)[x]"
   ]
  },
  {
   "cell_type": "code",
   "execution_count": 10,
   "metadata": {},
   "outputs": [],
   "source": [
    "R.<x> = PolynomialRing(GF(2), x)\n",
    "g=x^8+x^4+x^3+x+1"
   ]
  },
  {
   "cell_type": "code",
   "execution_count": 11,
   "metadata": {},
   "outputs": [
    {
     "data": {
      "text/plain": [
       "True"
      ]
     },
     "execution_count": 11,
     "metadata": {},
     "output_type": "execute_result"
    }
   ],
   "source": [
    "g.is_irreducible() # g is irreducible over GF(2)"
   ]
  },
  {
   "cell_type": "code",
   "execution_count": 12,
   "metadata": {},
   "outputs": [],
   "source": [
    "K.<a>=R.quotient_ring(g) # quotient ring is the field K=GF(256)"
   ]
  },
  {
   "cell_type": "code",
   "execution_count": 13,
   "metadata": {},
   "outputs": [
    {
     "data": {
      "text/plain": [
       "a^7 + a^4 + a^3 + a + 1"
      ]
     },
     "execution_count": 13,
     "metadata": {},
     "output_type": "execute_result"
    }
   ],
   "source": [
    "a^7*(a+1) # computation in K"
   ]
  },
  {
   "cell_type": "code",
   "execution_count": 14,
   "metadata": {},
   "outputs": [
    {
     "data": {
      "text/plain": [
       "a^7 + a^6 + a^5 + a^4 + a^2 + a"
      ]
     },
     "execution_count": 14,
     "metadata": {},
     "output_type": "execute_result"
    }
   ],
   "source": [
    "1/(a+1) # multiplicative inverse in K"
   ]
  },
  {
   "cell_type": "markdown",
   "metadata": {},
   "source": [
    "Solution of Exercise 16."
   ]
  },
  {
   "cell_type": "code",
   "execution_count": 16,
   "metadata": {},
   "outputs": [
    {
     "data": {
      "text/plain": [
       "True"
      ]
     },
     "execution_count": 16,
     "metadata": {},
     "output_type": "execute_result"
    }
   ],
   "source": [
    "R.<x> = PolynomialRing(GF(2), x)\n",
    "h=1+x+x^6; h.is_irreducible() # example of an irreducible polynomial of degree 6 over GF(2)"
   ]
  },
  {
   "cell_type": "markdown",
   "metadata": {},
   "source": [
    "Solution of Exercise 17."
   ]
  },
  {
   "cell_type": "code",
   "execution_count": 17,
   "metadata": {},
   "outputs": [
    {
     "data": {
      "text/plain": [
       "x * (x + 1) * (x^2 + x + 1) * (x^4 + x + 1) * (x^4 + x^3 + 1) * (x^4 + x^3 + x^2 + x + 1) * (x^8 + x^4 + x^3 + x + 1) * (x^8 + x^4 + x^3 + x^2 + 1) * (x^8 + x^5 + x^3 + x + 1) * (x^8 + x^5 + x^3 + x^2 + 1) * (x^8 + x^5 + x^4 + x^3 + 1) * (x^8 + x^5 + x^4 + x^3 + x^2 + x + 1) * (x^8 + x^6 + x^3 + x^2 + 1) * (x^8 + x^6 + x^4 + x^3 + x^2 + x + 1) * (x^8 + x^6 + x^5 + x + 1) * (x^8 + x^6 + x^5 + x^2 + 1) * (x^8 + x^6 + x^5 + x^3 + 1) * (x^8 + x^6 + x^5 + x^4 + 1) * (x^8 + x^6 + x^5 + x^4 + x^2 + x + 1) * (x^8 + x^6 + x^5 + x^4 + x^3 + x + 1) * (x^8 + x^7 + x^2 + x + 1) * (x^8 + x^7 + x^3 + x + 1) * (x^8 + x^7 + x^3 + x^2 + 1) * (x^8 + x^7 + x^4 + x^3 + x^2 + x + 1) * (x^8 + x^7 + x^5 + x + 1) * (x^8 + x^7 + x^5 + x^3 + 1) * (x^8 + x^7 + x^5 + x^4 + 1) * (x^8 + x^7 + x^5 + x^4 + x^3 + x^2 + 1) * (x^8 + x^7 + x^6 + x + 1) * (x^8 + x^7 + x^6 + x^3 + x^2 + x + 1) * (x^8 + x^7 + x^6 + x^4 + x^2 + x + 1) * (x^8 + x^7 + x^6 + x^4 + x^3 + x^2 + 1) * (x^8 + x^7 + x^6 + x^5 + x^2 + x + 1) * (x^8 + x^7 + x^6 + x^5 + x^4 + x + 1) * (x^8 + x^7 + x^6 + x^5 + x^4 + x^2 + 1) * (x^8 + x^7 + x^6 + x^5 + x^4 + x^3 + 1)"
      ]
     },
     "execution_count": 17,
     "metadata": {},
     "output_type": "execute_result"
    }
   ],
   "source": [
    "R.<x> = PolynomialRing(GF(2), x)\n",
    "R(x^256-x).factor() # one of the factors is x^8+x^4+x^3+x+1"
   ]
  },
  {
   "cell_type": "markdown",
   "metadata": {},
   "source": [
    "Solution of Exercise 23."
   ]
  },
  {
   "cell_type": "code",
   "execution_count": 18,
   "metadata": {},
   "outputs": [],
   "source": [
    "A=matrix(GF(2),[[1,1,1],[1,1,0],[0,1,1]])  # f(x)=Ax+b"
   ]
  },
  {
   "cell_type": "code",
   "execution_count": 19,
   "metadata": {},
   "outputs": [
    {
     "data": {
      "text/plain": [
       "[1 0 1]\n",
       "[1 1 1]\n",
       "[1 1 0]"
      ]
     },
     "execution_count": 19,
     "metadata": {},
     "output_type": "execute_result"
    }
   ],
   "source": [
    "1/A # inverse Matrix A^(-1). f(x)=A^(-1)(x)-A^(-1)(b)"
   ]
  },
  {
   "cell_type": "markdown",
   "metadata": {},
   "source": [
    "Solution of Exercise 24."
   ]
  },
  {
   "cell_type": "code",
   "execution_count": 20,
   "metadata": {},
   "outputs": [],
   "source": [
    "V=matrix(GF(2),[[0,0,1],[1,0,1],[0,1,1]]) "
   ]
  },
  {
   "cell_type": "code",
   "execution_count": 21,
   "metadata": {},
   "outputs": [],
   "source": [
    "W=matrix(GF(2),[[1,1,1],[0,0,1],[0,1,1]]) "
   ]
  },
  {
   "cell_type": "code",
   "execution_count": 22,
   "metadata": {},
   "outputs": [
    {
     "data": {
      "text/plain": [
       "[1 1 1]\n",
       "[1 0 0]\n",
       "[0 0 1]"
      ]
     },
     "execution_count": 22,
     "metadata": {},
     "output_type": "execute_result"
    }
   ],
   "source": [
    "W*(1/V) # matrix of f"
   ]
  }
 ],
 "metadata": {
  "kernelspec": {
   "display_name": "SageMath 8.5",
   "language": "",
   "name": "sagemath"
  },
  "language_info": {
   "codemirror_mode": {
    "name": "ipython",
    "version": 2
   },
   "file_extension": ".py",
   "mimetype": "text/x-python",
   "name": "python",
   "nbconvert_exporter": "python",
   "pygments_lexer": "ipython2",
   "version": "2.7.15"
  }
 },
 "nbformat": 4,
 "nbformat_minor": 2
}
