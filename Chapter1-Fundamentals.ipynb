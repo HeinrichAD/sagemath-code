{
 "cells": [
  {
   "cell_type": "markdown",
   "metadata": {},
   "source": [
    "*A Course in Cryptography* by Heiko Knospe, American Mathematical Society, Pure and Applied Undergraduate Texts 40"
   ]
  },
  {
   "cell_type": "markdown",
   "metadata": {},
   "source": [
    "## Code examples of Chapter 1 - Fundamentals"
   ]
  },
  {
   "cell_type": "markdown",
   "metadata": {},
   "source": [
    "SageMath can work with large integers."
   ]
  },
  {
   "cell_type": "code",
   "execution_count": 1,
   "metadata": {},
   "outputs": [
    {
     "data": {
      "text/plain": [
       "340282366920938463463374607431768211456"
      ]
     },
     "execution_count": 1,
     "metadata": {},
     "output_type": "execute_result"
    }
   ],
   "source": [
    "2^128"
   ]
  },
  {
   "cell_type": "markdown",
   "metadata": {},
   "source": [
    "Computing a residue class."
   ]
  },
  {
   "cell_type": "code",
   "execution_count": 2,
   "metadata": {},
   "outputs": [
    {
     "data": {
      "text/plain": [
       "6"
      ]
     },
     "execution_count": 2,
     "metadata": {},
     "output_type": "execute_result"
    }
   ],
   "source": [
    "mod(-892342322327,11)"
   ]
  },
  {
   "cell_type": "markdown",
   "metadata": {},
   "source": [
    "Algebraic normal form of a Boolean Function."
   ]
  },
  {
   "cell_type": "code",
   "execution_count": 3,
   "metadata": {},
   "outputs": [
    {
     "data": {
      "text/plain": [
       "x0*x1 + x1 + 1"
      ]
     },
     "execution_count": 3,
     "metadata": {},
     "output_type": "execute_result"
    }
   ],
   "source": [
    "from sage.crypto.boolean_function import BooleanFunction\n",
    "B=BooleanFunction([1,1,0,1]) # Boolean function defined by f(00)=1, f(01)=1, f(10)=0, f(11)=1\n",
    "B.algebraic_normal_form()"
   ]
  },
  {
   "cell_type": "markdown",
   "metadata": {},
   "source": [
    "Print the binomials $\\binom{15}{n}$."
   ]
  },
  {
   "cell_type": "code",
   "execution_count": 4,
   "metadata": {},
   "outputs": [
    {
     "name": "stdout",
     "output_type": "stream",
     "text": [
      "1 15 105 455 1365 3003 5005 6435 6435 5005 3003 1365 455 105 15 1\n"
     ]
    }
   ],
   "source": [
    "for n in range(0,16):\n",
    "\tprint binomial(15,n),"
   ]
  },
  {
   "cell_type": "markdown",
   "metadata": {},
   "source": [
    "Probability that no collision occurs if $k$ samples are drawn from a set of $n$ elements."
   ]
  },
  {
   "cell_type": "code",
   "execution_count": 5,
   "metadata": {},
   "outputs": [],
   "source": [
    "import scipy.stats\n",
    "binom_dist = scipy.stats.binom(20,.5) # Binomial distribution B(20,.5)\n",
    "unif_dist = scipy.stats.randint(0,21) # Uniform discrete distribution on 0,1,...,20"
   ]
  },
  {
   "cell_type": "code",
   "execution_count": 6,
   "metadata": {},
   "outputs": [
    {
     "data": {
      "image/png": "[encoded data removed]",
      "text/plain": [
       "Graphics object consisting of 2 graphics primitives"
      ]
     },
     "execution_count": 6,
     "metadata": {},
     "output_type": "execute_result"
    }
   ],
   "source": [
    "g1=list_plot([[x,binom_dist.pmf(x)] for x in range(21)],size=100,color='blue') # pmf of discrete uniform distribution\n",
    "g2=list_plot([[x,unif_dist.pmf(x)] for x in range(21)],size=100,marker='x',color='black') # pmf of B(20,.5)\n",
    "g1+g2"
   ]
  },
  {
   "cell_type": "code",
   "execution_count": 7,
   "metadata": {},
   "outputs": [],
   "source": [
    "def birthday(k,n):\n",
    "    p=1\n",
    "    for i in range(1,k):\n",
    "        p=p*(1-i/n)\n",
    "    print RR(p)"
   ]
  },
  {
   "cell_type": "markdown",
   "metadata": {},
   "source": [
    "The probability of a birthday collision for $23$ people is around $50\\%$. "
   ]
  },
  {
   "cell_type": "code",
   "execution_count": 8,
   "metadata": {},
   "outputs": [
    {
     "name": "stdout",
     "output_type": "stream",
     "text": [
      "0.492702765676015\n"
     ]
    }
   ],
   "source": [
    "birthday(23,365)"
   ]
  },
  {
   "cell_type": "markdown",
   "metadata": {},
   "source": [
    "Find a collision in the output of the recursion $x_{i}=f(x_{i-1})$ where $f(x)=x^2+26 \\mod 107$ and $x_0=1$. Use Floyd's cycle finding algorithm."
   ]
  },
  {
   "cell_type": "code",
   "execution_count": 9,
   "metadata": {},
   "outputs": [
    {
     "name": "stdout",
     "output_type": "stream",
     "text": [
      "k = 9  x = 39\n"
     ]
    }
   ],
   "source": [
    "def f(x):\n",
    "    return(x*x+26)    \n",
    "x=mod(1,107); y=mod(1,107)\n",
    "x=f(x)\n",
    "y=f(f(y))\n",
    "k=1\n",
    "while x!=y:    \n",
    "    x=f(x)\n",
    "    y=f(f(y)) \n",
    "    k=k+1\n",
    "print \"k =\",k,\" x =\",x"
   ]
  },
  {
   "cell_type": "markdown",
   "metadata": {},
   "source": [
    "Check the collision and print $x_1, x_2, \\dots$. We see that $x_9=39$ and $x_{18}=39$."
   ]
  },
  {
   "cell_type": "code",
   "execution_count": 10,
   "metadata": {},
   "outputs": [
    {
     "name": "stdout",
     "output_type": "stream",
     "text": [
      "27 6  62 18 29 11 40 21 39 49 73 5  51 59 83 67 21 39\n"
     ]
    }
   ],
   "source": [
    "x=mod(1,107)\n",
    "for i in range(18):\n",
    "    x=f(x)\n",
    "    print(\"{:2}\".format(x)),"
   ]
  },
  {
   "cell_type": "markdown",
   "metadata": {},
   "source": [
    "Solution of Exercise 9."
   ]
  },
  {
   "cell_type": "code",
   "execution_count": 11,
   "metadata": {},
   "outputs": [
    {
     "data": {
      "text/plain": [
       "x0*x1*x2 + x0*x1 + x1*x2 + x2 + 1"
      ]
     },
     "execution_count": 11,
     "metadata": {},
     "output_type": "execute_result"
    }
   ],
   "source": [
    "BooleanFunction([1,1,1,0,0,0,1,1]).algebraic_normal_form()"
   ]
  }
 ],
 "metadata": {
  "kernelspec": {
   "display_name": "SageMath 8.5",
   "language": "",
   "name": "sagemath"
  },
  "language_info": {
   "codemirror_mode": {
    "name": "ipython",
    "version": 2
   },
   "file_extension": ".py",
   "mimetype": "text/x-python",
   "name": "python",
   "nbconvert_exporter": "python",
   "pygments_lexer": "ipython2",
   "version": "2.7.15"
  }
 },
 "nbformat": 4,
 "nbformat_minor": 2
}
