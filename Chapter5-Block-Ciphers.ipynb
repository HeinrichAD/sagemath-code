{
 "cells": [
  {
   "cell_type": "markdown",
   "metadata": {},
   "source": [
    "*A Course in Cryptography* by Heiko Knospe, American Mathematical Society, Pure and Applied Undergraduate Texts 40"
   ]
  },
  {
   "cell_type": "markdown",
   "metadata": {},
   "source": [
    "## Code examples of Chapter 5 - Block Ciphers\n",
    "SageMath 8.5 code"
   ]
  },
  {
   "cell_type": "markdown",
   "metadata": {},
   "source": [
    "Print out the S-Box values of AES."
   ]
  },
  {
   "cell_type": "code",
   "execution_count": 1,
   "metadata": {},
   "outputs": [],
   "source": [
    "sr = mq.SR(10, 4, 4, 8, star=True, allow_zero_inversions=True, aes_mode=True)"
   ]
  },
  {
   "cell_type": "code",
   "execution_count": 2,
   "metadata": {},
   "outputs": [],
   "source": [
    "S=sr.sbox()"
   ]
  },
  {
   "cell_type": "code",
   "execution_count": 3,
   "metadata": {},
   "outputs": [
    {
     "name": "stdout",
     "output_type": "stream",
     "text": [
      "63 7C 77 7B F2 6B 6F C5 30 01 67 2B FE D7 AB 76 CA 82 C9 7D FA 59 47 F0 AD D4 A2 AF 9C A4 72 C0 B7 FD 93 26 36 3F F7 CC 34 A5 E5 F1 71 D8 31 15 04 C7 23 C3 18 96 05 9A 07 12 80 E2 EB 27 B2 75 09 83 2C 1A 1B 6E 5A A0 52 3B D6 B3 29 E3 2F 84 53 D1 00 ED 20 FC B1 5B 6A CB BE 39 4A 4C 58 CF D0 EF AA FB 43 4D 33 85 45 F9 02 7F 50 3C 9F A8 51 A3 40 8F 92 9D 38 F5 BC B6 DA 21 10 FF F3 D2 CD 0C 13 EC 5F 97 44 17 C4 A7 7E 3D 64 5D 19 73 60 81 4F DC 22 2A 90 88 46 EE B8 14 DE 5E 0B DB E0 32 3A 0A 49 06 24 5C C2 D3 AC 62 91 95 E4 79 E7 C8 37 6D 8D D5 4E A9 6C 56 F4 EA 65 7A AE 08 BA 78 25 2E 1C A6 B4 C6 E8 DD 74 1F 4B BD 8B 8A 70 3E B5 66 48 03 F6 0E 61 35 57 B9 86 C1 1D 9E E1 F8 98 11 69 D9 8E 94 9B 1E 87 E9 CE 55 28 DF 8C A1 89 0D BF E6 42 68 41 99 2D 0F B0 54 BB 16 "
     ]
    }
   ],
   "source": [
    "from __future__ import print_function # compatibility with SageMath 9.0 / Python 3\n",
    "for i in range(0,256):\n",
    "\tprint(\"{:02X}\".format(S[i]), end=\" \")"
   ]
  },
  {
   "cell_type": "markdown",
   "metadata": {},
   "source": [
    "Define the field $GF(2^8)=GF[x]/(x^8+x^4+x^3+x+1)$."
   ]
  },
  {
   "cell_type": "code",
   "execution_count": 4,
   "metadata": {},
   "outputs": [],
   "source": [
    "K.<a>=GF(2^8, name='a', modulus=x^8+x^4+x^3+x+1)"
   ]
  },
  {
   "cell_type": "markdown",
   "metadata": {},
   "source": [
    "Exercise 2. Compute inverses in $GF(2^8)$ and some $S$-Box values."
   ]
  },
  {
   "cell_type": "code",
   "execution_count": 5,
   "metadata": {},
   "outputs": [
    {
     "name": "stdout",
     "output_type": "stream",
     "text": [
      "1\n",
      "a^7 + a^3 + a^2 + 1\n",
      "a^7 + a^6 + a^5 + a^4 + a^2 + a\n"
     ]
    }
   ],
   "source": [
    "# Compute the inverses of 01, 02, 03\n",
    "print(1/1)\n",
    "print(1/a)\n",
    "print(1/(1+a)) \n",
    "# results are 01, 8D, F6"
   ]
  },
  {
   "cell_type": "code",
   "execution_count": 6,
   "metadata": {},
   "outputs": [
    {
     "name": "stdout",
     "output_type": "stream",
     "text": [
      "[1 1 1 1 1 0 0 0]\n",
      "[0 1 1 1 1 1 0 0]\n",
      "[0 0 1 1 1 1 1 0]\n",
      "[0 0 0 1 1 1 1 1]\n",
      "[1 0 0 0 1 1 1 1]\n",
      "[1 1 0 0 0 1 1 1]\n",
      "[1 1 1 0 0 0 1 1]\n",
      "[1 1 1 1 0 0 0 1]\n"
     ]
    }
   ],
   "source": [
    "A=matrix(GF(2),[[1,1,1,1,1,0,0,0],[0,1,1,1,1,1,0,0],[0,0,1,1,1,1,1,0],[0,0,0,1,1,1,1,1],[1,0,0,0,1,1,1,1],[1,1,0,0,0,1,1,1],[1,1,1,0,0,0,1,1],[1,1,1,1,0,0,0,1]])\n",
    "print(A)"
   ]
  },
  {
   "cell_type": "code",
   "execution_count": 7,
   "metadata": {},
   "outputs": [
    {
     "name": "stdout",
     "output_type": "stream",
     "text": [
      "(0, 1, 1, 0, 0, 0, 1, 1)\n"
     ]
    }
   ],
   "source": [
    "b=vector(GF(2),[0,1,1,0,0,0,1,1])\n",
    "print(b)"
   ]
  },
  {
   "cell_type": "code",
   "execution_count": 8,
   "metadata": {},
   "outputs": [
    {
     "data": {
      "text/plain": [
       "(0, 1, 1, 1, 1, 1, 0, 0)"
      ]
     },
     "execution_count": 8,
     "metadata": {},
     "output_type": "execute_result"
    }
   ],
   "source": [
    "v=vector(GF(2),[0,0,0,0,0,0,0,1])  # 01=01^(-1)\n",
    "A*v+b # A*01+b=7C=S_RD(01)"
   ]
  },
  {
   "cell_type": "code",
   "execution_count": 9,
   "metadata": {},
   "outputs": [
    {
     "data": {
      "text/plain": [
       "(0, 1, 1, 1, 0, 1, 1, 1)"
      ]
     },
     "execution_count": 9,
     "metadata": {},
     "output_type": "execute_result"
    }
   ],
   "source": [
    "v=vector(GF(2),[1,0,0,0,1,1,0,1])  # 02^(-1)= 8D\n",
    "A*v+b # A*8D+b=77=S_RD(02)"
   ]
  },
  {
   "cell_type": "code",
   "execution_count": 10,
   "metadata": {},
   "outputs": [
    {
     "data": {
      "text/plain": [
       "(0, 1, 1, 1, 1, 0, 1, 1)"
      ]
     },
     "execution_count": 10,
     "metadata": {},
     "output_type": "execute_result"
    }
   ],
   "source": [
    "v=vector(GF(2),[1,1,1,1,0,1,1,0])  # 03^(-1)= F6\n",
    "A*v+b # A*F6+b=7B=S_RD(03)"
   ]
  },
  {
   "cell_type": "markdown",
   "metadata": {},
   "source": [
    "Exercise 5. MixColumns matrix $M$ and inverse matrix $M^{-1}$."
   ]
  },
  {
   "cell_type": "code",
   "execution_count": 11,
   "metadata": {},
   "outputs": [
    {
     "data": {
      "text/plain": [
       "[a^3 + a^2 + a   a^3 + a + 1 a^3 + a^2 + 1       a^3 + 1]\n",
       "[      a^3 + 1 a^3 + a^2 + a   a^3 + a + 1 a^3 + a^2 + 1]\n",
       "[a^3 + a^2 + 1       a^3 + 1 a^3 + a^2 + a   a^3 + a + 1]\n",
       "[  a^3 + a + 1 a^3 + a^2 + 1       a^3 + 1 a^3 + a^2 + a]"
      ]
     },
     "execution_count": 11,
     "metadata": {},
     "output_type": "execute_result"
    }
   ],
   "source": [
    "M=matrix(K,[[a,1+a,1,1],[1,a,1+a,1],[1,1,a,1+a],[1+a,1,1,a]])\n",
    "M.inverse()\n"
   ]
  },
  {
   "cell_type": "code",
   "execution_count": 12,
   "metadata": {},
   "outputs": [
    {
     "name": "stdout",
     "output_type": "stream",
     "text": [
      "02010103030201010103020101010302\n",
      "0E090D0B0B0E090D0D0B0E09090D0B0E\n"
     ]
    }
   ],
   "source": [
    "# hexadecimal representation of M and M^(-1)\n",
    "print(sr.hex_str_vector(M))\n",
    "print(sr.hex_str_vector(M.inverse())) "
   ]
  },
  {
   "cell_type": "markdown",
   "metadata": {},
   "source": [
    "Exercise 8."
   ]
  },
  {
   "cell_type": "code",
   "execution_count": 13,
   "metadata": {},
   "outputs": [],
   "source": [
    "sr = mq.SR(10, 4, 4, 8, star=True, allow_zero_inversions=True, aes_mode=True)"
   ]
  },
  {
   "cell_type": "markdown",
   "metadata": {},
   "source": [
    "AES operating on a state matrix $p$ and a key matrix $k$ over $GF(2^8)$."
   ]
  },
  {
   "cell_type": "code",
   "execution_count": 14,
   "metadata": {},
   "outputs": [],
   "source": [
    "def aesenc(p,k):\n",
    "\t# Add k=key0\n",
    "\tprint(sr.hex_str_vector(k))\n",
    "\tp=p+k;\n",
    "\t# Rounds 1-9\n",
    "\tfor i in range(1,10):\n",
    "\t\tp=sr.sub_bytes(p)\n",
    "\t\tp=sr.shift_rows(p)\n",
    "\t\tp=sr.mix_columns(p)\n",
    "\t\tk=sr.key_schedule(k, i)\n",
    "\t\tp=p+k\n",
    "\t\tprint(sr.hex_str_vector(k))\n",
    "\t# Round 10    \n",
    "\tp=sr.sub_bytes(p)\n",
    "\tp=sr.shift_rows(p)\n",
    "\tk=sr.key_schedule(k, 10)\n",
    "\tprint(sr.hex_str_vector(k))\n",
    "\tp=p+k\n",
    "\tprint(\"Output: \" + sr.hex_str_vector(p) )\n",
    "\treturn p  "
   ]
  },
  {
   "cell_type": "markdown",
   "metadata": {},
   "source": [
    "$128$-bit key $k=\\mathtt{01\\ 00\\ 00\\ 00\\ 00\\ 00\\ 00\\ 00\\ 00}$, plaintext $ m= \\mathtt{80\\ 00\\ 00\\ 00\\ 00\\ 00\\ 00\\ 00\\ 00}$."
   ]
  },
  {
   "cell_type": "code",
   "execution_count": 15,
   "metadata": {},
   "outputs": [],
   "source": [
    "Key=sr.state_array(); Key[0,0]=1"
   ]
  },
  {
   "cell_type": "code",
   "execution_count": 16,
   "metadata": {},
   "outputs": [],
   "source": [
    "M=sr.state_array(); M[0,0]=a^7"
   ]
  },
  {
   "cell_type": "code",
   "execution_count": 17,
   "metadata": {},
   "outputs": [
    {
     "data": {
      "text/plain": [
       "[1 0 0 0]\n",
       "[0 0 0 0]\n",
       "[0 0 0 0]\n",
       "[0 0 0 0]"
      ]
     },
     "execution_count": 17,
     "metadata": {},
     "output_type": "execute_result"
    }
   ],
   "source": [
    "sr.key_schedule(Key, 0) # round key k0=k"
   ]
  },
  {
   "cell_type": "code",
   "execution_count": 18,
   "metadata": {},
   "outputs": [
    {
     "data": {
      "text/plain": [
       "'01000000000000000000000000000000'"
      ]
     },
     "execution_count": 18,
     "metadata": {},
     "output_type": "execute_result"
    }
   ],
   "source": [
    "sr.hex_str_vector(Key) "
   ]
  },
  {
   "cell_type": "code",
   "execution_count": 19,
   "metadata": {},
   "outputs": [
    {
     "data": {
      "text/plain": [
       "[a^6 + a^5 + a + 1 a^6 + a^5 + a + 1 a^6 + a^5 + a + 1 a^6 + a^5 + a + 1]\n",
       "[a^6 + a^5 + a + 1 a^6 + a^5 + a + 1 a^6 + a^5 + a + 1 a^6 + a^5 + a + 1]\n",
       "[a^6 + a^5 + a + 1 a^6 + a^5 + a + 1 a^6 + a^5 + a + 1 a^6 + a^5 + a + 1]\n",
       "[a^6 + a^5 + a + 1 a^6 + a^5 + a + 1 a^6 + a^5 + a + 1 a^6 + a^5 + a + 1]"
      ]
     },
     "execution_count": 19,
     "metadata": {},
     "output_type": "execute_result"
    }
   ],
   "source": [
    "sr.key_schedule(Key, 1) # round key k1"
   ]
  },
  {
   "cell_type": "code",
   "execution_count": 20,
   "metadata": {},
   "outputs": [
    {
     "data": {
      "text/plain": [
       "'63636363636363636363636363636363'"
      ]
     },
     "execution_count": 20,
     "metadata": {},
     "output_type": "execute_result"
    }
   ],
   "source": [
    "sr.hex_str_vector(sr.key_schedule(Key, 1))"
   ]
  },
  {
   "cell_type": "code",
   "execution_count": 21,
   "metadata": {},
   "outputs": [
    {
     "name": "stdout",
     "output_type": "stream",
     "text": [
      "01000000000000000000000000000000\n",
      "63636363636363636363636363636363\n",
      "9A989898F9FBFBFB9A989898F9FBFBFB\n",
      "91979701686C6CFAF2F4F4620B0F0F99\n",
      "EFE1792A878D15D07579E1B27E76EE2B\n",
      "C7C988D940449D09353D7CBB4B4B9290\n",
      "5486E86A14C2756321FF09D86AB49B48\n",
      "9992BA688D50CF0BACAFC6D3C61B5D9B\n",
      "B6DEAEDC3B8E61D79721A704513AFA9F\n",
      "2DF3750D167D14DA815CB3DED0664941\n",
      "28C8F67D3EB5E2A7BFE951796F8F1838\n",
      "Output: 09F292268EDAAB9D6308EF2723590C18\n"
     ]
    }
   ],
   "source": [
    "C=aesenc(M,Key) # print round keys, ciphertext is output"
   ]
  },
  {
   "cell_type": "code",
   "execution_count": null,
   "metadata": {},
   "outputs": [],
   "source": []
  }
 ],
 "metadata": {
  "kernelspec": {
   "display_name": "SageMath 8.5",
   "language": "",
   "name": "sagemath"
  },
  "language_info": {
   "codemirror_mode": {
    "name": "ipython",
    "version": 2
   },
   "file_extension": ".py",
   "mimetype": "text/x-python",
   "name": "python",
   "nbconvert_exporter": "python",
   "pygments_lexer": "ipython2",
   "version": "2.7.15"
  }
 },
 "nbformat": 4,
 "nbformat_minor": 2
}
